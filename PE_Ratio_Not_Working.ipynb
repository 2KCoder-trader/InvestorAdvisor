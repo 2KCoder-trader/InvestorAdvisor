{
 "cells": [
  {
   "cell_type": "code",
   "execution_count": 1,
   "id": "59c1040e",
   "metadata": {},
   "outputs": [],
   "source": [
    "#Investor Advisor"
   ]
  },
  {
   "cell_type": "code",
   "execution_count": 1,
   "id": "88328514",
   "metadata": {},
   "outputs": [],
   "source": [
    "import pandas as pd\n",
    "import numpy as np\n",
    "import yfinance as yf\n",
    "from datetime import date"
   ]
  },
  {
   "cell_type": "code",
   "execution_count": 2,
   "id": "75baa705",
   "metadata": {},
   "outputs": [
    {
     "name": "stdout",
     "output_type": "stream",
     "text": [
      "Enter a ticker symbol:TSLA\n"
     ]
    }
   ],
   "source": [
    "\n",
    "#try domething lets do a linear regression for bottom peaks\n",
    "#where u can change also the interval and period\n",
    "\n",
    "#take the input of a ticker\n",
    "tick = input('Enter a ticker symbol:')\n",
    "input_tick = yf.Ticker(tick)"
   ]
  },
  {
   "cell_type": "code",
   "execution_count": 3,
   "id": "7c69af49",
   "metadata": {},
   "outputs": [],
   "source": [
    "#create data table for stock prices of  past periods\n",
    "stock_history = input_tick.history(period = 'max', interval = '1d')"
   ]
  },
  {
   "cell_type": "code",
   "execution_count": 4,
   "id": "45eb850c",
   "metadata": {},
   "outputs": [],
   "source": [
    "#get current year\n",
    "today = date.today()\n",
    "year = int(str(today)[0:4])#2022\n",
    "#Create indexes\n",
    "yr1 = str(year-1)+'-12-31'#2021\n",
    "yr2 = str(year-2)+'-12-31'#2020\n",
    "yr3 = str(year-3)+'-12-31'#2019"
   ]
  },
  {
   "cell_type": "code",
   "execution_count": 5,
   "id": "c4d429ba",
   "metadata": {},
   "outputs": [
    {
     "data": {
      "text/plain": [
       "1056.780029296875"
      ]
     },
     "execution_count": 5,
     "metadata": {},
     "output_type": "execute_result"
    }
   ],
   "source": [
    "#Stock prices for each year\n",
    "yr1_price = stock_history.loc[yr1,'Close']\n",
    "yr2_price = stock_history.loc[yr2,'Close']\n",
    "yr3_price = stock_history.loc[yr3,'Close']\n",
    "yr1_price"
   ]
  },
  {
   "cell_type": "code",
   "execution_count": 68,
   "id": "57d36b11",
   "metadata": {},
   "outputs": [
    {
     "data": {
      "text/html": [
       "<div>\n",
       "<style scoped>\n",
       "    .dataframe tbody tr th:only-of-type {\n",
       "        vertical-align: middle;\n",
       "    }\n",
       "\n",
       "    .dataframe tbody tr th {\n",
       "        vertical-align: top;\n",
       "    }\n",
       "\n",
       "    .dataframe thead th {\n",
       "        text-align: right;\n",
       "    }\n",
       "</style>\n",
       "<table border=\"1\" class=\"dataframe\">\n",
       "  <thead>\n",
       "    <tr style=\"text-align: right;\">\n",
       "      <th></th>\n",
       "      <th>Revenue</th>\n",
       "      <th>Earnings</th>\n",
       "    </tr>\n",
       "    <tr>\n",
       "      <th>Year</th>\n",
       "      <th></th>\n",
       "      <th></th>\n",
       "    </tr>\n",
       "  </thead>\n",
       "  <tbody>\n",
       "    <tr>\n",
       "      <th>2018</th>\n",
       "      <td>21461000000</td>\n",
       "      <td>-976000000</td>\n",
       "    </tr>\n",
       "    <tr>\n",
       "      <th>2019</th>\n",
       "      <td>24578000000</td>\n",
       "      <td>-862000000</td>\n",
       "    </tr>\n",
       "    <tr>\n",
       "      <th>2020</th>\n",
       "      <td>31536000000</td>\n",
       "      <td>721000000</td>\n",
       "    </tr>\n",
       "    <tr>\n",
       "      <th>2021</th>\n",
       "      <td>53823000000</td>\n",
       "      <td>5519000000</td>\n",
       "    </tr>\n",
       "  </tbody>\n",
       "</table>\n",
       "</div>"
      ],
      "text/plain": [
       "          Revenue    Earnings\n",
       "Year                         \n",
       "2018  21461000000  -976000000\n",
       "2019  24578000000  -862000000\n",
       "2020  31536000000   721000000\n",
       "2021  53823000000  5519000000"
      ]
     },
     "execution_count": 68,
     "metadata": {},
     "output_type": "execute_result"
    }
   ],
   "source": [
    "stock_earnings = input_tick.earnings\n",
    "stock_earnings"
   ]
  },
  {
   "cell_type": "code",
   "execution_count": 59,
   "id": "60eb2d56",
   "metadata": {},
   "outputs": [
    {
     "data": {
      "text/plain": [
       "5519000000"
      ]
     },
     "execution_count": 59,
     "metadata": {},
     "output_type": "execute_result"
    }
   ],
   "source": [
    "#Company Earnings for each year\n",
    "stock_earnings = input_tick.earnings\n",
    "yr1_earnings = stock_earnings.loc[year-1,'Earnings']\n",
    "yr2_earnings = stock_earnings.loc[year-2,'Earnings']\n",
    "yr3_earnings = stock_earnings.loc[year-3,'Earnings']\n",
    "yr1_earnings"
   ]
  },
  {
   "cell_type": "code",
   "execution_count": 66,
   "id": "59830b0e",
   "metadata": {},
   "outputs": [
    {
     "data": {
      "text/html": [
       "<div>\n",
       "<style scoped>\n",
       "    .dataframe tbody tr th:only-of-type {\n",
       "        vertical-align: middle;\n",
       "    }\n",
       "\n",
       "    .dataframe tbody tr th {\n",
       "        vertical-align: top;\n",
       "    }\n",
       "\n",
       "    .dataframe thead th {\n",
       "        text-align: right;\n",
       "    }\n",
       "</style>\n",
       "<table border=\"1\" class=\"dataframe\">\n",
       "  <thead>\n",
       "    <tr style=\"text-align: right;\">\n",
       "      <th></th>\n",
       "      <th>2021-12-31</th>\n",
       "      <th>2020-12-31</th>\n",
       "      <th>2019-12-31</th>\n",
       "      <th>2018-12-31</th>\n",
       "    </tr>\n",
       "  </thead>\n",
       "  <tbody>\n",
       "    <tr>\n",
       "      <th>Intangible Assets</th>\n",
       "      <td>2.570000e+08</td>\n",
       "      <td>3.130000e+08</td>\n",
       "      <td>3.390000e+08</td>\n",
       "      <td>2.820000e+08</td>\n",
       "    </tr>\n",
       "    <tr>\n",
       "      <th>Capital Surplus</th>\n",
       "      <td>2.980300e+10</td>\n",
       "      <td>2.726000e+10</td>\n",
       "      <td>1.273600e+10</td>\n",
       "      <td>1.024900e+10</td>\n",
       "    </tr>\n",
       "    <tr>\n",
       "      <th>Total Liab</th>\n",
       "      <td>3.054800e+10</td>\n",
       "      <td>2.846900e+10</td>\n",
       "      <td>2.619900e+10</td>\n",
       "      <td>2.342700e+10</td>\n",
       "    </tr>\n",
       "    <tr>\n",
       "      <th>Total Stockholder Equity</th>\n",
       "      <td>3.018900e+10</td>\n",
       "      <td>2.222500e+10</td>\n",
       "      <td>6.618000e+09</td>\n",
       "      <td>4.923000e+09</td>\n",
       "    </tr>\n",
       "    <tr>\n",
       "      <th>Minority Interest</th>\n",
       "      <td>1.394000e+09</td>\n",
       "      <td>1.454000e+09</td>\n",
       "      <td>1.492000e+09</td>\n",
       "      <td>1.390000e+09</td>\n",
       "    </tr>\n",
       "    <tr>\n",
       "      <th>Other Current Liab</th>\n",
       "      <td>4.756000e+09</td>\n",
       "      <td>4.147000e+09</td>\n",
       "      <td>3.693000e+09</td>\n",
       "      <td>2.955000e+09</td>\n",
       "    </tr>\n",
       "    <tr>\n",
       "      <th>Total Assets</th>\n",
       "      <td>6.213100e+10</td>\n",
       "      <td>5.214800e+10</td>\n",
       "      <td>3.430900e+10</td>\n",
       "      <td>2.974000e+10</td>\n",
       "    </tr>\n",
       "    <tr>\n",
       "      <th>Common Stock</th>\n",
       "      <td>1.000000e+06</td>\n",
       "      <td>1.000000e+06</td>\n",
       "      <td>1.000000e+06</td>\n",
       "      <td>NaN</td>\n",
       "    </tr>\n",
       "    <tr>\n",
       "      <th>Other Current Assets</th>\n",
       "      <td>3.450000e+08</td>\n",
       "      <td>2.380000e+08</td>\n",
       "      <td>2.460000e+08</td>\n",
       "      <td>1.930000e+08</td>\n",
       "    </tr>\n",
       "    <tr>\n",
       "      <th>Retained Earnings</th>\n",
       "      <td>3.310000e+08</td>\n",
       "      <td>-5.399000e+09</td>\n",
       "      <td>-6.083000e+09</td>\n",
       "      <td>-5.318000e+09</td>\n",
       "    </tr>\n",
       "    <tr>\n",
       "      <th>Other Liab</th>\n",
       "      <td>3.896000e+09</td>\n",
       "      <td>3.302000e+09</td>\n",
       "      <td>2.969000e+09</td>\n",
       "      <td>2.318000e+09</td>\n",
       "    </tr>\n",
       "    <tr>\n",
       "      <th>Good Will</th>\n",
       "      <td>2.000000e+08</td>\n",
       "      <td>2.070000e+08</td>\n",
       "      <td>1.980000e+08</td>\n",
       "      <td>6.800000e+07</td>\n",
       "    </tr>\n",
       "    <tr>\n",
       "      <th>Treasury Stock</th>\n",
       "      <td>5.400000e+07</td>\n",
       "      <td>3.630000e+08</td>\n",
       "      <td>-3.600000e+07</td>\n",
       "      <td>-8.000000e+06</td>\n",
       "    </tr>\n",
       "    <tr>\n",
       "      <th>Other Assets</th>\n",
       "      <td>3.398000e+09</td>\n",
       "      <td>1.536000e+09</td>\n",
       "      <td>1.469000e+09</td>\n",
       "      <td>1.380000e+09</td>\n",
       "    </tr>\n",
       "    <tr>\n",
       "      <th>Cash</th>\n",
       "      <td>1.757600e+10</td>\n",
       "      <td>1.938400e+10</td>\n",
       "      <td>6.268000e+09</td>\n",
       "      <td>3.686000e+09</td>\n",
       "    </tr>\n",
       "    <tr>\n",
       "      <th>Total Current Liabilities</th>\n",
       "      <td>1.970500e+10</td>\n",
       "      <td>1.424800e+10</td>\n",
       "      <td>1.066700e+10</td>\n",
       "      <td>9.993000e+09</td>\n",
       "    </tr>\n",
       "    <tr>\n",
       "      <th>Short Long Term Debt</th>\n",
       "      <td>1.088000e+09</td>\n",
       "      <td>1.758000e+09</td>\n",
       "      <td>1.399000e+09</td>\n",
       "      <td>2.284000e+09</td>\n",
       "    </tr>\n",
       "    <tr>\n",
       "      <th>Other Stockholder Equity</th>\n",
       "      <td>5.400000e+07</td>\n",
       "      <td>3.630000e+08</td>\n",
       "      <td>-3.600000e+07</td>\n",
       "      <td>-8.000000e+06</td>\n",
       "    </tr>\n",
       "    <tr>\n",
       "      <th>Property Plant Equipment</th>\n",
       "      <td>3.117600e+10</td>\n",
       "      <td>2.337500e+10</td>\n",
       "      <td>2.019900e+10</td>\n",
       "      <td>1.969100e+10</td>\n",
       "    </tr>\n",
       "    <tr>\n",
       "      <th>Total Current Assets</th>\n",
       "      <td>2.710000e+10</td>\n",
       "      <td>2.671700e+10</td>\n",
       "      <td>1.210300e+10</td>\n",
       "      <td>8.307000e+09</td>\n",
       "    </tr>\n",
       "    <tr>\n",
       "      <th>Net Tangible Assets</th>\n",
       "      <td>2.973200e+10</td>\n",
       "      <td>2.170500e+10</td>\n",
       "      <td>6.081000e+09</td>\n",
       "      <td>4.573000e+09</td>\n",
       "    </tr>\n",
       "    <tr>\n",
       "      <th>Short Term Investments</th>\n",
       "      <td>1.310000e+08</td>\n",
       "      <td>NaN</td>\n",
       "      <td>NaN</td>\n",
       "      <td>NaN</td>\n",
       "    </tr>\n",
       "    <tr>\n",
       "      <th>Net Receivables</th>\n",
       "      <td>1.986000e+09</td>\n",
       "      <td>1.903000e+09</td>\n",
       "      <td>1.324000e+09</td>\n",
       "      <td>9.490000e+08</td>\n",
       "    </tr>\n",
       "    <tr>\n",
       "      <th>Long Term Debt</th>\n",
       "      <td>4.285000e+09</td>\n",
       "      <td>8.571000e+09</td>\n",
       "      <td>1.037500e+10</td>\n",
       "      <td>8.461000e+09</td>\n",
       "    </tr>\n",
       "    <tr>\n",
       "      <th>Inventory</th>\n",
       "      <td>5.757000e+09</td>\n",
       "      <td>4.101000e+09</td>\n",
       "      <td>3.552000e+09</td>\n",
       "      <td>3.113000e+09</td>\n",
       "    </tr>\n",
       "    <tr>\n",
       "      <th>Accounts Payable</th>\n",
       "      <td>1.002500e+10</td>\n",
       "      <td>6.051000e+09</td>\n",
       "      <td>3.771000e+09</td>\n",
       "      <td>3.405000e+09</td>\n",
       "    </tr>\n",
       "    <tr>\n",
       "      <th>Long Term Investments</th>\n",
       "      <td>NaN</td>\n",
       "      <td>NaN</td>\n",
       "      <td>1.000000e+06</td>\n",
       "      <td>1.200000e+07</td>\n",
       "    </tr>\n",
       "  </tbody>\n",
       "</table>\n",
       "</div>"
      ],
      "text/plain": [
       "                             2021-12-31    2020-12-31    2019-12-31  \\\n",
       "Intangible Assets          2.570000e+08  3.130000e+08  3.390000e+08   \n",
       "Capital Surplus            2.980300e+10  2.726000e+10  1.273600e+10   \n",
       "Total Liab                 3.054800e+10  2.846900e+10  2.619900e+10   \n",
       "Total Stockholder Equity   3.018900e+10  2.222500e+10  6.618000e+09   \n",
       "Minority Interest          1.394000e+09  1.454000e+09  1.492000e+09   \n",
       "Other Current Liab         4.756000e+09  4.147000e+09  3.693000e+09   \n",
       "Total Assets               6.213100e+10  5.214800e+10  3.430900e+10   \n",
       "Common Stock               1.000000e+06  1.000000e+06  1.000000e+06   \n",
       "Other Current Assets       3.450000e+08  2.380000e+08  2.460000e+08   \n",
       "Retained Earnings          3.310000e+08 -5.399000e+09 -6.083000e+09   \n",
       "Other Liab                 3.896000e+09  3.302000e+09  2.969000e+09   \n",
       "Good Will                  2.000000e+08  2.070000e+08  1.980000e+08   \n",
       "Treasury Stock             5.400000e+07  3.630000e+08 -3.600000e+07   \n",
       "Other Assets               3.398000e+09  1.536000e+09  1.469000e+09   \n",
       "Cash                       1.757600e+10  1.938400e+10  6.268000e+09   \n",
       "Total Current Liabilities  1.970500e+10  1.424800e+10  1.066700e+10   \n",
       "Short Long Term Debt       1.088000e+09  1.758000e+09  1.399000e+09   \n",
       "Other Stockholder Equity   5.400000e+07  3.630000e+08 -3.600000e+07   \n",
       "Property Plant Equipment   3.117600e+10  2.337500e+10  2.019900e+10   \n",
       "Total Current Assets       2.710000e+10  2.671700e+10  1.210300e+10   \n",
       "Net Tangible Assets        2.973200e+10  2.170500e+10  6.081000e+09   \n",
       "Short Term Investments     1.310000e+08           NaN           NaN   \n",
       "Net Receivables            1.986000e+09  1.903000e+09  1.324000e+09   \n",
       "Long Term Debt             4.285000e+09  8.571000e+09  1.037500e+10   \n",
       "Inventory                  5.757000e+09  4.101000e+09  3.552000e+09   \n",
       "Accounts Payable           1.002500e+10  6.051000e+09  3.771000e+09   \n",
       "Long Term Investments               NaN           NaN  1.000000e+06   \n",
       "\n",
       "                             2018-12-31  \n",
       "Intangible Assets          2.820000e+08  \n",
       "Capital Surplus            1.024900e+10  \n",
       "Total Liab                 2.342700e+10  \n",
       "Total Stockholder Equity   4.923000e+09  \n",
       "Minority Interest          1.390000e+09  \n",
       "Other Current Liab         2.955000e+09  \n",
       "Total Assets               2.974000e+10  \n",
       "Common Stock                        NaN  \n",
       "Other Current Assets       1.930000e+08  \n",
       "Retained Earnings         -5.318000e+09  \n",
       "Other Liab                 2.318000e+09  \n",
       "Good Will                  6.800000e+07  \n",
       "Treasury Stock            -8.000000e+06  \n",
       "Other Assets               1.380000e+09  \n",
       "Cash                       3.686000e+09  \n",
       "Total Current Liabilities  9.993000e+09  \n",
       "Short Long Term Debt       2.284000e+09  \n",
       "Other Stockholder Equity  -8.000000e+06  \n",
       "Property Plant Equipment   1.969100e+10  \n",
       "Total Current Assets       8.307000e+09  \n",
       "Net Tangible Assets        4.573000e+09  \n",
       "Short Term Investments              NaN  \n",
       "Net Receivables            9.490000e+08  \n",
       "Long Term Debt             8.461000e+09  \n",
       "Inventory                  3.113000e+09  \n",
       "Accounts Payable           3.405000e+09  \n",
       "Long Term Investments      1.200000e+07  "
      ]
     },
     "execution_count": 66,
     "metadata": {},
     "output_type": "execute_result"
    }
   ],
   "source": [
    "stock_balance = input_tick.balance_sheet\n",
    "stock_balance\n"
   ]
  },
  {
   "cell_type": "code",
   "execution_count": 100,
   "id": "0fe8ae77",
   "metadata": {},
   "outputs": [
    {
     "data": {
      "text/plain": [
       "30189000000.0"
      ]
     },
     "execution_count": 100,
     "metadata": {},
     "output_type": "execute_result"
    }
   ],
   "source": [
    "stock_balance = input_tick.balance_sheet\n",
    "yr1_stock = float(stock_balance.loc['Total Stockholder Equity'][yr1])\n",
    "yr2_stock = float(stock_balance.loc['Total Stockholder Equity'][yr2])\n",
    "yr3_stock = float(stock_balance.loc['Total Stockholder Equity'][yr3])\n",
    "yr1_stock"
   ]
  },
  {
   "cell_type": "code",
   "execution_count": 103,
   "id": "9c202724",
   "metadata": {},
   "outputs": [
    {
     "data": {
      "text/plain": [
       "5780.600163878123"
      ]
     },
     "execution_count": 103,
     "metadata": {},
     "output_type": "execute_result"
    }
   ],
   "source": [
    "PEyr1 =yr1_price/(yr1_earnings/yr1_stock)\n",
    "PEyr2 =yr2_price/(yr2_earnings/yr2_stock)\n",
    "PEyr3 =yr3_price/(yr3_earnings/yr3_stock)\n",
    "\n",
    "PEavg = (PEyr1+PEyr2+PEyr3)/3\n",
    "PEyr1"
   ]
  },
  {
   "cell_type": "code",
   "execution_count": 102,
   "id": "d75635f1",
   "metadata": {},
   "outputs": [
    {
     "name": "stdout",
     "output_type": "stream",
     "text": [
      "8963.567811231933\n",
      "177.66986\n"
     ]
    }
   ],
   "source": [
    "stock_info = input_tick.info\n",
    "PEnow = stock_info['trailingPE']\n",
    "print(PEavg)\n",
    "print(PEnow)"
   ]
  },
  {
   "cell_type": "code",
   "execution_count": 96,
   "id": "2f5c0017",
   "metadata": {},
   "outputs": [
    {
     "data": {
      "text/plain": [
       "63.44959191894531"
      ]
     },
     "execution_count": 96,
     "metadata": {},
     "output_type": "execute_result"
    }
   ],
   "source": [
    ".info\n",
    "totalshares = stock_info['sharesOutstanding']\n",
    "\n",
    "stock_history = yf.Ticker('TSLA').earnings\n",
    "stock_history = yf.Ticker('TSLA').history(period = '10y')\n",
    "#new_stock = stock_history[stock_history['Date'].contains('2017')]\n",
    "stock18 = stock_history.loc['2018-01-01':'2018-12-30']\n",
    "stock18['Close'].mean()"
   ]
  },
  {
   "cell_type": "code",
   "execution_count": 101,
   "id": "8ac2eac3",
   "metadata": {
    "scrolled": true
   },
   "outputs": [
    {
     "data": {
      "text/plain": [
       "-0.9443546602261472"
      ]
     },
     "execution_count": 101,
     "metadata": {},
     "output_type": "execute_result"
    }
   ],
   "source": [
    "stock_earnings = yf.Ticker('TSLA').earnings\n",
    "stock_earnings.loc[2018]['Earnings']/totalshares"
   ]
  },
  {
   "cell_type": "code",
   "execution_count": null,
   "id": "3e2ac451",
   "metadata": {},
   "outputs": [],
   "source": [
    "\n",
    "#new_stock = stock_history[stock_history['To Grade'] == 'Buy']"
   ]
  },
  {
   "cell_type": "code",
   "execution_count": null,
   "id": "dc47b837",
   "metadata": {},
   "outputs": [],
   "source": [
    "_yr1\n",
    "_yr2\n",
    "_yr3\n",
    "_c"
   ]
  },
  {
   "cell_type": "code",
   "execution_count": 84,
   "id": "54cfc455",
   "metadata": {},
   "outputs": [
    {
     "data": {
      "text/html": [
       "<div>\n",
       "<style scoped>\n",
       "    .dataframe tbody tr th:only-of-type {\n",
       "        vertical-align: middle;\n",
       "    }\n",
       "\n",
       "    .dataframe tbody tr th {\n",
       "        vertical-align: top;\n",
       "    }\n",
       "\n",
       "    .dataframe thead th {\n",
       "        text-align: right;\n",
       "    }\n",
       "</style>\n",
       "<table border=\"1\" class=\"dataframe\">\n",
       "  <thead>\n",
       "    <tr style=\"text-align: right;\">\n",
       "      <th></th>\n",
       "      <th>Revenue</th>\n",
       "      <th>Earnings</th>\n",
       "    </tr>\n",
       "    <tr>\n",
       "      <th>Year</th>\n",
       "      <th></th>\n",
       "      <th></th>\n",
       "    </tr>\n",
       "  </thead>\n",
       "  <tbody>\n",
       "    <tr>\n",
       "      <th>2018</th>\n",
       "      <td>21461000000</td>\n",
       "      <td>-976000000</td>\n",
       "    </tr>\n",
       "    <tr>\n",
       "      <th>2019</th>\n",
       "      <td>24578000000</td>\n",
       "      <td>-862000000</td>\n",
       "    </tr>\n",
       "    <tr>\n",
       "      <th>2020</th>\n",
       "      <td>31536000000</td>\n",
       "      <td>721000000</td>\n",
       "    </tr>\n",
       "    <tr>\n",
       "      <th>2021</th>\n",
       "      <td>53823000000</td>\n",
       "      <td>5519000000</td>\n",
       "    </tr>\n",
       "  </tbody>\n",
       "</table>\n",
       "</div>"
      ],
      "text/plain": [
       "          Revenue    Earnings\n",
       "Year                         \n",
       "2018  21461000000  -976000000\n",
       "2019  24578000000  -862000000\n",
       "2020  31536000000   721000000\n",
       "2021  53823000000  5519000000"
      ]
     },
     "execution_count": 84,
     "metadata": {},
     "output_type": "execute_result"
    }
   ],
   "source": [
    "# common stock"
   ]
  },
  {
   "cell_type": "code",
   "execution_count": 102,
   "id": "50eb3101",
   "metadata": {},
   "outputs": [],
   "source": [
    "stock_earnings = yf.Ticker('TSLA').balance_sheet"
   ]
  },
  {
   "cell_type": "code",
   "execution_count": 138,
   "id": "bb04946c",
   "metadata": {},
   "outputs": [
    {
     "ename": "TypeError",
     "evalue": "'float' object does not support item assignment",
     "output_type": "error",
     "traceback": [
      "\u001b[1;31m---------------------------------------------------------------------------\u001b[0m",
      "\u001b[1;31mTypeError\u001b[0m                                 Traceback (most recent call last)",
      "\u001b[1;32mC:\\Users\\KAIDEN~1\\AppData\\Local\\Temp/ipykernel_18720/1922953487.py\u001b[0m in \u001b[0;36m<module>\u001b[1;34m\u001b[0m\n\u001b[1;32m----> 1\u001b[1;33m \u001b[0mstock_earnings\u001b[0m \u001b[1;33m=\u001b[0m \u001b[0mstock_earnings\u001b[0m\u001b[1;33m[\u001b[0m\u001b[0mstock_earnings\u001b[0m \u001b[1;33m==\u001b[0m \u001b[1;32mNone\u001b[0m\u001b[1;33m]\u001b[0m \u001b[1;33m=\u001b[0m \u001b[1;36m0.0\u001b[0m\u001b[1;33m\u001b[0m\u001b[1;33m\u001b[0m\u001b[0m\n\u001b[0m",
      "\u001b[1;31mTypeError\u001b[0m: 'float' object does not support item assignment"
     ]
    }
   ],
   "source": [
    "stock_earnings = stock_earnings[stock_earnings == None] = 0.0"
   ]
  },
  {
   "cell_type": "code",
   "execution_count": 131,
   "id": "ccb0baf2",
   "metadata": {},
   "outputs": [],
   "source": [
    "outstock19 = stock_earnings.loc['Common Stock']['2019-12-31'] - stock_earnings.loc['Treasury Stock']['2019-12-31']"
   ]
  },
  {
   "cell_type": "code",
   "execution_count": 132,
   "id": "80b2f66f",
   "metadata": {},
   "outputs": [
    {
     "data": {
      "text/plain": [
       "\n",
       "2019-12-31    37000000.0\n",
       "dtype: float64"
      ]
     },
     "execution_count": 132,
     "metadata": {},
     "output_type": "execute_result"
    }
   ],
   "source": [
    "outstock19"
   ]
  },
  {
   "cell_type": "code",
   "execution_count": 120,
   "id": "02ecc37e",
   "metadata": {},
   "outputs": [],
   "source": [
    "stock_income_statement = yf.Ticker('TSLA').financials"
   ]
  },
  {
   "cell_type": "code",
   "execution_count": 121,
   "id": "d8ec08b8",
   "metadata": {},
   "outputs": [
    {
     "data": {
      "text/html": [
       "<div>\n",
       "<style scoped>\n",
       "    .dataframe tbody tr th:only-of-type {\n",
       "        vertical-align: middle;\n",
       "    }\n",
       "\n",
       "    .dataframe tbody tr th {\n",
       "        vertical-align: top;\n",
       "    }\n",
       "\n",
       "    .dataframe thead th {\n",
       "        text-align: right;\n",
       "    }\n",
       "</style>\n",
       "<table border=\"1\" class=\"dataframe\">\n",
       "  <thead>\n",
       "    <tr style=\"text-align: right;\">\n",
       "      <th></th>\n",
       "      <th>2021-12-31</th>\n",
       "      <th>2020-12-31</th>\n",
       "      <th>2019-12-31</th>\n",
       "      <th>2018-12-31</th>\n",
       "    </tr>\n",
       "  </thead>\n",
       "  <tbody>\n",
       "    <tr>\n",
       "      <th>Research Development</th>\n",
       "      <td>2593000000.0</td>\n",
       "      <td>1491000000.0</td>\n",
       "      <td>1343000000.0</td>\n",
       "      <td>1460000000.0</td>\n",
       "    </tr>\n",
       "    <tr>\n",
       "      <th>Effect Of Accounting Charges</th>\n",
       "      <td>None</td>\n",
       "      <td>None</td>\n",
       "      <td>None</td>\n",
       "      <td>None</td>\n",
       "    </tr>\n",
       "    <tr>\n",
       "      <th>Income Before Tax</th>\n",
       "      <td>6343000000.0</td>\n",
       "      <td>1154000000.0</td>\n",
       "      <td>-665000000.0</td>\n",
       "      <td>-1005000000.0</td>\n",
       "    </tr>\n",
       "    <tr>\n",
       "      <th>Minority Interest</th>\n",
       "      <td>1394000000.0</td>\n",
       "      <td>1454000000.0</td>\n",
       "      <td>1492000000.0</td>\n",
       "      <td>1390000000.0</td>\n",
       "    </tr>\n",
       "    <tr>\n",
       "      <th>Net Income</th>\n",
       "      <td>5519000000.0</td>\n",
       "      <td>721000000.0</td>\n",
       "      <td>-862000000.0</td>\n",
       "      <td>-976000000.0</td>\n",
       "    </tr>\n",
       "    <tr>\n",
       "      <th>Selling General Administrative</th>\n",
       "      <td>4517000000.0</td>\n",
       "      <td>3188000000.0</td>\n",
       "      <td>2646000000.0</td>\n",
       "      <td>2835000000.0</td>\n",
       "    </tr>\n",
       "    <tr>\n",
       "      <th>Gross Profit</th>\n",
       "      <td>13606000000.0</td>\n",
       "      <td>6630000000.0</td>\n",
       "      <td>4069000000.0</td>\n",
       "      <td>4042000000.0</td>\n",
       "    </tr>\n",
       "    <tr>\n",
       "      <th>Ebit</th>\n",
       "      <td>6523000000.0</td>\n",
       "      <td>1951000000.0</td>\n",
       "      <td>80000000.0</td>\n",
       "      <td>-253000000.0</td>\n",
       "    </tr>\n",
       "    <tr>\n",
       "      <th>Operating Income</th>\n",
       "      <td>6523000000.0</td>\n",
       "      <td>1951000000.0</td>\n",
       "      <td>80000000.0</td>\n",
       "      <td>-253000000.0</td>\n",
       "    </tr>\n",
       "    <tr>\n",
       "      <th>Other Operating Expenses</th>\n",
       "      <td>-27000000.0</td>\n",
       "      <td>-27000000.0</td>\n",
       "      <td>-27000000.0</td>\n",
       "      <td>-27000000.0</td>\n",
       "    </tr>\n",
       "    <tr>\n",
       "      <th>Interest Expense</th>\n",
       "      <td>-358000000.0</td>\n",
       "      <td>-784000000.0</td>\n",
       "      <td>-725000000.0</td>\n",
       "      <td>-653000000.0</td>\n",
       "    </tr>\n",
       "    <tr>\n",
       "      <th>Extraordinary Items</th>\n",
       "      <td>None</td>\n",
       "      <td>None</td>\n",
       "      <td>None</td>\n",
       "      <td>None</td>\n",
       "    </tr>\n",
       "    <tr>\n",
       "      <th>Non Recurring</th>\n",
       "      <td>None</td>\n",
       "      <td>None</td>\n",
       "      <td>None</td>\n",
       "      <td>None</td>\n",
       "    </tr>\n",
       "    <tr>\n",
       "      <th>Other Items</th>\n",
       "      <td>None</td>\n",
       "      <td>None</td>\n",
       "      <td>None</td>\n",
       "      <td>None</td>\n",
       "    </tr>\n",
       "    <tr>\n",
       "      <th>Income Tax Expense</th>\n",
       "      <td>699000000.0</td>\n",
       "      <td>292000000.0</td>\n",
       "      <td>110000000.0</td>\n",
       "      <td>58000000.0</td>\n",
       "    </tr>\n",
       "    <tr>\n",
       "      <th>Total Revenue</th>\n",
       "      <td>53823000000.0</td>\n",
       "      <td>31536000000.0</td>\n",
       "      <td>24578000000.0</td>\n",
       "      <td>21461000000.0</td>\n",
       "    </tr>\n",
       "    <tr>\n",
       "      <th>Total Operating Expenses</th>\n",
       "      <td>47300000000.0</td>\n",
       "      <td>29585000000.0</td>\n",
       "      <td>24498000000.0</td>\n",
       "      <td>21714000000.0</td>\n",
       "    </tr>\n",
       "    <tr>\n",
       "      <th>Cost Of Revenue</th>\n",
       "      <td>40217000000.0</td>\n",
       "      <td>24906000000.0</td>\n",
       "      <td>20509000000.0</td>\n",
       "      <td>17419000000.0</td>\n",
       "    </tr>\n",
       "    <tr>\n",
       "      <th>Total Other Income Expense Net</th>\n",
       "      <td>-180000000.0</td>\n",
       "      <td>-797000000.0</td>\n",
       "      <td>-745000000.0</td>\n",
       "      <td>-752000000.0</td>\n",
       "    </tr>\n",
       "    <tr>\n",
       "      <th>Discontinued Operations</th>\n",
       "      <td>None</td>\n",
       "      <td>None</td>\n",
       "      <td>None</td>\n",
       "      <td>None</td>\n",
       "    </tr>\n",
       "    <tr>\n",
       "      <th>Net Income From Continuing Ops</th>\n",
       "      <td>5644000000.0</td>\n",
       "      <td>862000000.0</td>\n",
       "      <td>-775000000.0</td>\n",
       "      <td>-1063000000.0</td>\n",
       "    </tr>\n",
       "    <tr>\n",
       "      <th>Net Income Applicable To Common Shares</th>\n",
       "      <td>5524000000.0</td>\n",
       "      <td>690000000.0</td>\n",
       "      <td>-870000000.0</td>\n",
       "      <td>-976000000.0</td>\n",
       "    </tr>\n",
       "  </tbody>\n",
       "</table>\n",
       "</div>"
      ],
      "text/plain": [
       "                                           2021-12-31     2020-12-31  \\\n",
       "Research Development                     2593000000.0   1491000000.0   \n",
       "Effect Of Accounting Charges                     None           None   \n",
       "Income Before Tax                        6343000000.0   1154000000.0   \n",
       "Minority Interest                        1394000000.0   1454000000.0   \n",
       "Net Income                               5519000000.0    721000000.0   \n",
       "Selling General Administrative           4517000000.0   3188000000.0   \n",
       "Gross Profit                            13606000000.0   6630000000.0   \n",
       "Ebit                                     6523000000.0   1951000000.0   \n",
       "Operating Income                         6523000000.0   1951000000.0   \n",
       "Other Operating Expenses                  -27000000.0    -27000000.0   \n",
       "Interest Expense                         -358000000.0   -784000000.0   \n",
       "Extraordinary Items                              None           None   \n",
       "Non Recurring                                    None           None   \n",
       "Other Items                                      None           None   \n",
       "Income Tax Expense                        699000000.0    292000000.0   \n",
       "Total Revenue                           53823000000.0  31536000000.0   \n",
       "Total Operating Expenses                47300000000.0  29585000000.0   \n",
       "Cost Of Revenue                         40217000000.0  24906000000.0   \n",
       "Total Other Income Expense Net           -180000000.0   -797000000.0   \n",
       "Discontinued Operations                          None           None   \n",
       "Net Income From Continuing Ops           5644000000.0    862000000.0   \n",
       "Net Income Applicable To Common Shares   5524000000.0    690000000.0   \n",
       "\n",
       "                                           2019-12-31     2018-12-31  \n",
       "Research Development                     1343000000.0   1460000000.0  \n",
       "Effect Of Accounting Charges                     None           None  \n",
       "Income Before Tax                        -665000000.0  -1005000000.0  \n",
       "Minority Interest                        1492000000.0   1390000000.0  \n",
       "Net Income                               -862000000.0   -976000000.0  \n",
       "Selling General Administrative           2646000000.0   2835000000.0  \n",
       "Gross Profit                             4069000000.0   4042000000.0  \n",
       "Ebit                                       80000000.0   -253000000.0  \n",
       "Operating Income                           80000000.0   -253000000.0  \n",
       "Other Operating Expenses                  -27000000.0    -27000000.0  \n",
       "Interest Expense                         -725000000.0   -653000000.0  \n",
       "Extraordinary Items                              None           None  \n",
       "Non Recurring                                    None           None  \n",
       "Other Items                                      None           None  \n",
       "Income Tax Expense                        110000000.0     58000000.0  \n",
       "Total Revenue                           24578000000.0  21461000000.0  \n",
       "Total Operating Expenses                24498000000.0  21714000000.0  \n",
       "Cost Of Revenue                         20509000000.0  17419000000.0  \n",
       "Total Other Income Expense Net           -745000000.0   -752000000.0  \n",
       "Discontinued Operations                          None           None  \n",
       "Net Income From Continuing Ops           -775000000.0  -1063000000.0  \n",
       "Net Income Applicable To Common Shares   -870000000.0   -976000000.0  "
      ]
     },
     "execution_count": 121,
     "metadata": {},
     "output_type": "execute_result"
    }
   ],
   "source": [
    "stock_income_statement"
   ]
  },
  {
   "cell_type": "code",
   "execution_count": null,
   "id": "45a6647b",
   "metadata": {},
   "outputs": [],
   "source": []
  }
 ],
 "metadata": {
  "kernelspec": {
   "display_name": "Python 3 (ipykernel)",
   "language": "python",
   "name": "python3"
  },
  "language_info": {
   "codemirror_mode": {
    "name": "ipython",
    "version": 3
   },
   "file_extension": ".py",
   "mimetype": "text/x-python",
   "name": "python",
   "nbconvert_exporter": "python",
   "pygments_lexer": "ipython3",
   "version": "3.9.7"
  }
 },
 "nbformat": 4,
 "nbformat_minor": 5
}
