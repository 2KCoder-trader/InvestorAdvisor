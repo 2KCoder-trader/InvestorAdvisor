{
 "cells": [
  {
   "cell_type": "code",
   "execution_count": null,
   "id": "a133ac7f",
   "metadata": {},
   "outputs": [],
   "source": [
    "\n",
    "import pandas as pd\n",
    "import numpy as np\n",
    "import yfinance as yf\n",
    "tickers = pd.read_csv('constituents.csv')"
   ]
  },
  {
   "cell_type": "code",
   "execution_count": null,
   "id": "d752ba93",
   "metadata": {},
   "outputs": [],
   "source": []
  },
  {
   "cell_type": "code",
   "execution_count": null,
   "id": "65c2982a",
   "metadata": {},
   "outputs": [],
   "source": [
    "input_tick = yf.Ticker(\"TSLA\")\n",
    "    hi = input_tick.info"
   ]
  },
  {
   "cell_type": "code",
   "execution_count": null,
   "id": "01dc5252",
   "metadata": {},
   "outputs": [],
   "source": []
  },
  {
   "cell_type": "code",
   "execution_count": null,
   "id": "a9a4a6ad",
   "metadata": {},
   "outputs": [],
   "source": [
    "for ticker in tickers['Symbol']:\n",
    "    input_tick = yf.Ticker(ticker)\n",
    "    hi = input_tick.info"
   ]
  }
 ],
 "metadata": {
  "kernelspec": {
   "display_name": "Python 3 (ipykernel)",
   "language": "python",
   "name": "python3"
  },
  "language_info": {
   "codemirror_mode": {
    "name": "ipython",
    "version": 3
   },
   "file_extension": ".py",
   "mimetype": "text/x-python",
   "name": "python",
   "nbconvert_exporter": "python",
   "pygments_lexer": "ipython3",
   "version": "3.9.7"
  }
 },
 "nbformat": 4,
 "nbformat_minor": 5
}
